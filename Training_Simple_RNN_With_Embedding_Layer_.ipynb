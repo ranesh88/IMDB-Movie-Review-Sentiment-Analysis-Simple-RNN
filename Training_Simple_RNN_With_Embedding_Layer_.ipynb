{
  "nbformat": 4,
  "nbformat_minor": 0,
  "metadata": {
    "colab": {
      "private_outputs": true,
      "provenance": [],
      "gpuType": "T4",
      "authorship_tag": "ABX9TyO0PS40mTf66AxQ8fDY8VP6",
      "include_colab_link": true
    },
    "kernelspec": {
      "name": "python3",
      "display_name": "Python 3"
    },
    "language_info": {
      "name": "python"
    },
    "accelerator": "GPU"
  },
  "cells": [
    {
      "cell_type": "markdown",
      "metadata": {
        "id": "view-in-github",
        "colab_type": "text"
      },
      "source": [
        "<a href=\"https://colab.research.google.com/github/ranesh88/IMDB-Movie-Review-Sentiment-Analysis-Simple-RNN/blob/main/Training_Simple_RNN_With_Embedding_Layer_.ipynb\" target=\"_parent\"><img src=\"https://colab.research.google.com/assets/colab-badge.svg\" alt=\"Open In Colab\"/></a>"
      ]
    },
    {
      "cell_type": "code",
      "source": [],
      "metadata": {
        "id": "LCJXbICTIYE3"
      },
      "execution_count": null,
      "outputs": []
    },
    {
      "cell_type": "code",
      "source": [],
      "metadata": {
        "id": "GKwZZIxZNHub"
      },
      "execution_count": null,
      "outputs": []
    },
    {
      "cell_type": "code",
      "source": [
        "import numpy as np\n",
        "import tensorflow as tf\n",
        "from tensorflow.keras.datasets import imdb\n",
        "from tensorflow.keras.preprocessing import sequence\n",
        "from tensorflow.keras.models import Sequential\n",
        "from tensorflow.keras.layers import Embedding,SimpleRNN,Dense"
      ],
      "metadata": {
        "id": "e_II5kVPNHzT"
      },
      "execution_count": null,
      "outputs": []
    },
    {
      "cell_type": "code",
      "source": [
        "## Load the imdb dataset\n",
        "\n",
        "max_features=10000 ##vocabulary size\n",
        "(X_train,y_train),(X_test,y_test)=imdb.load_data(num_words=max_features)\n",
        "\n",
        "# Print the shape of the data\n",
        "print(f'Training data shape: {X_train.shape}, Training labels shape: {y_train.shape}')\n",
        "print(f'Testing data shape: {X_train.shape}, Testing labels shape: {y_test.shape}')"
      ],
      "metadata": {
        "id": "Uc6iO3YaNH2E"
      },
      "execution_count": null,
      "outputs": []
    },
    {
      "cell_type": "code",
      "source": [
        "X_train[0],y_train[0]"
      ],
      "metadata": {
        "id": "GejazXCFNH5E"
      },
      "execution_count": null,
      "outputs": []
    },
    {
      "cell_type": "code",
      "source": [
        "## Inspect a sample review and its label\n",
        "sample_review=X_train[0]\n",
        "sample_label=y_train[0]\n",
        "\n",
        "print(f\"Sample review (as integers):{sample_review}\")\n",
        "print(f'Sample label: {sample_label}')"
      ],
      "metadata": {
        "id": "tWUEjzUbNH7D"
      },
      "execution_count": null,
      "outputs": []
    },
    {
      "cell_type": "code",
      "source": [
        "### Mapping of words index back to words(for understanding)\n",
        "word_index=imdb.get_word_index()\n",
        "#word_index\n",
        "reverse_word_index = {value: key for key, value in word_index.items()}\n",
        "reverse_word_index"
      ],
      "metadata": {
        "id": "HkbJosCKNH_f"
      },
      "execution_count": null,
      "outputs": []
    },
    {
      "cell_type": "code",
      "source": [
        "decoded_review = ' '.join([reverse_word_index.get(i - 3, '?') for i in sample_review])\n",
        "decoded_review"
      ],
      "metadata": {
        "id": "7jE1WyI7aLPP"
      },
      "execution_count": null,
      "outputs": []
    },
    {
      "cell_type": "code",
      "source": [
        "from tensorflow.keras.preprocessing import sequence\n",
        "\n",
        "max_len=500\n",
        "\n",
        "X_train=sequence.pad_sequences(X_train,maxlen=max_len)\n",
        "X_test = sequence.pad_sequences(X_test, maxlen=max_len)\n",
        "X_train"
      ],
      "metadata": {
        "id": "3oSEn88caLSQ"
      },
      "execution_count": null,
      "outputs": []
    },
    {
      "cell_type": "code",
      "source": [
        "X_train[0]"
      ],
      "metadata": {
        "id": "4Dj7rnhbaLVL"
      },
      "execution_count": null,
      "outputs": []
    },
    {
      "cell_type": "code",
      "source": [
        "from tensorflow.keras.models import Sequential\n",
        "from tensorflow.keras.layers import Embedding, SimpleRNN, Dense\n",
        "\n",
        "# Define maximum features and input sequence length\n",
        "max_features = 10000  # Vocabulary size\n",
        "max_len = 500  # Input sequence length\n",
        "\n",
        "# Build the model\n",
        "model = Sequential([\n",
        "    Embedding(input_dim=max_features, output_dim=128, input_length=max_len),\n",
        "    SimpleRNN(64, activation='tanh'),\n",
        "    Dense(1, activation='sigmoid')\n",
        "])\n",
        "\n",
        "# Build the model explicitly (alternative to compiling with data)\n",
        "model.build(input_shape=(None, max_len))\n",
        "\n",
        "# Compile the model\n",
        "model.compile(optimizer='adam', loss='binary_crossentropy', metrics=['accuracy'])"
      ],
      "metadata": {
        "id": "_ylGbS6saLYH"
      },
      "execution_count": null,
      "outputs": []
    },
    {
      "cell_type": "code",
      "source": [
        "model.summary()"
      ],
      "metadata": {
        "id": "AnI0MpBGbG5f"
      },
      "execution_count": null,
      "outputs": []
    },
    {
      "cell_type": "code",
      "source": [
        "## Create an instance of EarlyStoppping Callback\n",
        "from tensorflow.keras.callbacks import EarlyStopping\n",
        "earlystopping=EarlyStopping(monitor='val_loss',patience=5,restore_best_weights=True)\n",
        "earlystopping"
      ],
      "metadata": {
        "id": "aybx0F-YbKrb"
      },
      "execution_count": null,
      "outputs": []
    },
    {
      "cell_type": "code",
      "source": [
        "## Train the model with early sstopping\n",
        "history=model.fit(\n",
        "    X_train,y_train,epochs=10,batch_size=32,\n",
        "    validation_split=0.2,\n",
        "    callbacks=[earlystopping]\n",
        ")"
      ],
      "metadata": {
        "id": "IBpLu9dGcinc"
      },
      "execution_count": null,
      "outputs": []
    },
    {
      "cell_type": "code",
      "source": [
        "## Save model file\n",
        "model.save('simple_rnn_imdb.h5')"
      ],
      "metadata": {
        "id": "HEXTUczmcnHF"
      },
      "execution_count": null,
      "outputs": []
    },
    {
      "cell_type": "code",
      "source": [],
      "metadata": {
        "id": "WYjDPjLLd_lM"
      },
      "execution_count": null,
      "outputs": []
    }
  ]
}